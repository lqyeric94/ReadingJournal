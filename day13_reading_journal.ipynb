{
 "cells": [
  {
   "cell_type": "markdown",
   "metadata": {},
   "source": [
    "# Day 13 Reading Journal\n",
    "\n",
    "This journal includes review questions relating to Think Python Chapter 16.\n",
    "\n",
    "**Due: Thursday, October 20 at 12 noon**"
   ]
  },
  {
   "cell_type": "markdown",
   "metadata": {},
   "source": [
    "## Exercise 16-1.\n",
    "Write a function called `print_time` that takes a Time object and prints it in the form `hour:minute:second`.\n",
    "Hint: the format sequence `'%.2d'` prints an integer using at least two digits, including a leading zero if necessary."
   ]
  },
  {
   "cell_type": "code",
   "execution_count": 25,
   "metadata": {
    "collapsed": false
   },
   "outputs": [
    {
     "name": "stdout",
     "output_type": "stream",
     "text": [
      "03:04:05\n"
     ]
    }
   ],
   "source": [
    "class Time(object):\n",
    "    \"\"\"Represents the time of day.\n",
    "    attributes: hour, minute, second\n",
    "    \"\"\"\n",
    "def print_time(a):\n",
    "    print \"%.2d\" % a.hours+\":\"+\"%.2d\" %a.minutes +\":\"+\"%.2d\" %a.seconds\n",
    "# add your definition of print_time\n",
    "a=Time()\n",
    "a.hours = 3\n",
    "a.minutes = 4\n",
    "a.seconds = 5\n",
    "# add some code to demonstrate that print_time works\n",
    "print_time(a)"
   ]
  },
  {
   "cell_type": "code",
   "execution_count": null,
   "metadata": {
    "collapsed": true
   },
   "outputs": [],
   "source": []
  },
  {
   "cell_type": "markdown",
   "metadata": {},
   "source": []
  },
  {
   "cell_type": "markdown",
   "metadata": {},
   "source": [
    "## Exercise 16-2\n",
    "Write a boolean function called `is_after` that takes two Time objects, `t1` and `t2`, and returns `True` if `t1` follows `t2` chronologically and `False` otherwise.\n",
    "\n",
    "Challenge: don’t use an `if` statement."
   ]
  },
  {
   "cell_type": "code",
   "execution_count": 61,
   "metadata": {
    "collapsed": false
   },
   "outputs": [
    {
     "name": "stdout",
     "output_type": "stream",
     "text": [
      "True\n"
     ]
    }
   ],
   "source": [
    "def is_after(t1,t2):\n",
    "    h = t2.hours - t1.hours\n",
    "    m = t2.minutes - t1.minutes\n",
    "    s = t2.seconds - t1.seconds\n",
    "    print (h>0) or (h==0 and m > 0) or (h == 0 and m ==0 and s > 0)\n",
    "    \n",
    "a=Time()\n",
    "a.hours = 3\n",
    "a.minutes = 4\n",
    "a.seconds = 5\n",
    "\n",
    "b=Time()\n",
    "b.hours = 4\n",
    "b.minutes = 3\n",
    "b.seconds = 5\n",
    "\n",
    "is_after(a,b)"
   ]
  },
  {
   "cell_type": "markdown",
   "metadata": {},
   "source": [
    "## Modifiers\n",
    "Complete the code below, such that it demonstrates:\n",
    "\n",
    "* `increment` behaving as specified\n",
    "* `increment` with incorrect behavior"
   ]
  },
  {
   "cell_type": "code",
   "execution_count": 69,
   "metadata": {
    "collapsed": false
   },
   "outputs": [
    {
     "name": "stdout",
     "output_type": "stream",
     "text": [
      "50\n",
      "945\n"
     ]
    }
   ],
   "source": [
    "class Time(object):\n",
    "    \"\"\"Represents the time of day.\n",
    "    attributes: hour, minute, second\n",
    "    \"\"\"\n",
    "\n",
    "def increment(time, seconds):\n",
    "    time.second += seconds\n",
    "    if time.second >= 60:\n",
    "        time.second -= 60\n",
    "        time.minute += 1\n",
    "    if time.minute >= 60:\n",
    "        time.minute -= 60\n",
    "        time.hour += 1\n",
    "\n",
    "t1 = Time()\n",
    "t1.hours = 3\n",
    "t1.minute = 4\n",
    "t1.second = 5\n",
    "\n",
    "increment(t1, 45)\n",
    "print t1.second\n",
    "\n",
    "t2 = Time()\n",
    "t2.hours = 3\n",
    "t2.minute = 4\n",
    "t2.second = 5\n",
    "increment(t2, 1000)\n",
    "print t2.second"
   ]
  },
  {
   "cell_type": "markdown",
   "metadata": {},
   "source": [
    "## Exercise 16-3 (adapted)\n",
    "Fix `increment`, and demonstrate that has the correct behavior in the case that was a problem above.\n",
    "\n",
    "Unlike the version of this question in Think Python, you are allowed (but not required) to use loops."
   ]
  },
  {
   "cell_type": "code",
   "execution_count": 85,
   "metadata": {
    "collapsed": false
   },
   "outputs": [
    {
     "name": "stdout",
     "output_type": "stream",
     "text": [
      "45\n",
      "50\n",
      "5\n"
     ]
    }
   ],
   "source": [
    "class Time(object):\n",
    "    \"\"\"Represents the time of day.\n",
    "    attributes: hour, minute, second\n",
    "    \"\"\"\n",
    "\n",
    "def increment(time, seconds):\n",
    "    time.second += seconds\n",
    "    while time.second >= 60:\n",
    "        time.second -= 60\n",
    "        time.minute += 1\n",
    "    while time.minute >= 60:\n",
    "        time.minute -= 60\n",
    "        time.hour += 1\n",
    "\n",
    "\n",
    "t2 = Time()\n",
    "t2.hour = 3\n",
    "t2.minute = 4\n",
    "t2.second = 5\n",
    "increment(t2, 10000)\n",
    "print t2.second\n",
    "print t2.minute\n",
    "print t2.hour"
   ]
  },
  {
   "cell_type": "markdown",
   "metadata": {},
   "source": [
    "## PyGame Tutorial\n",
    "Add a link to the PyGame tutorial that you studied.\n",
    "\n",
    "Write a sentence (or more) that summarize the main points of the tutorial."
   ]
  },
  {
   "cell_type": "markdown",
   "metadata": {},
   "source": [
    "[Replace this text with a link to the PyGame tutorial.]\n",
    "\n",
    "[Replace this text with your summary of the main points of the tutorial.]"
   ]
  },
  {
   "cell_type": "markdown",
   "metadata": {},
   "source": [
    "# Quick poll\n",
    "About how long did you spend working on this Reading Journal?"
   ]
  },
  {
   "cell_type": "code",
   "execution_count": null,
   "metadata": {
    "collapsed": true
   },
   "outputs": [],
   "source": []
  },
  {
   "cell_type": "markdown",
   "metadata": {},
   "source": [
    " "
   ]
  }
 ],
 "metadata": {
  "anaconda-cloud": {},
  "kernelspec": {
   "display_name": "Python 2",
   "language": "python",
   "name": "python2"
  },
  "language_info": {
   "codemirror_mode": {
    "name": "ipython",
    "version": 2
   },
   "file_extension": ".py",
   "mimetype": "text/x-python",
   "name": "python",
   "nbconvert_exporter": "python",
   "pygments_lexer": "ipython2",
   "version": "2.7.12"
  }
 },
 "nbformat": 4,
 "nbformat_minor": 0
}
